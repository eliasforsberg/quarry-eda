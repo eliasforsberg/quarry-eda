{
 "cells": [
  {
   "cell_type": "markdown",
   "metadata": {},
   "source": [
    "# Quarry Production and Downtime EDA"
   ]
  },
  {
   "cell_type": "markdown",
   "metadata": {},
   "source": [
    "The following data is collected from a limestone quarry. We can assume that under ideal conditions, downtime is minimized and material is blasted, moved, processed, and shipped 24/7. The purpose of this notebook is to load, clean, and analyze two important measures:\n",
    "\n",
    "(1) Daily Total Production (Tonnes)\n",
    "\n",
    "(2) Downtime Events"
   ]
  },
  {
   "cell_type": "code",
   "execution_count": 80,
   "metadata": {},
   "outputs": [],
   "source": [
    "# Import packages\n",
    "import pandas as pd\n",
    "import numpy as np\n",
    "import matplotlib.pyplot as plt\n",
    "import seaborn as sns"
   ]
  },
  {
   "cell_type": "code",
   "execution_count": 81,
   "metadata": {},
   "outputs": [],
   "source": [
    "# Load CSVs\n",
    "dfprod = pd.read_csv(\"/Users/eliasforsberg/Documents/GitHub/quarry-eda/data/dfprod.csv\")\n",
    "dfdown = pd.read_csv(\"/Users/eliasforsberg/Documents/GitHub/quarry-eda/data/dfdown.csv\")"
   ]
  },
  {
   "cell_type": "markdown",
   "metadata": {},
   "source": [
    "### Inspect Dataframes and Change Data Types"
   ]
  },
  {
   "cell_type": "markdown",
   "metadata": {},
   "source": [
    "First change production data types"
   ]
  },
  {
   "cell_type": "code",
   "execution_count": 82,
   "metadata": {},
   "outputs": [
    {
     "data": {
      "text/html": [
       "<div>\n",
       "<style scoped>\n",
       "    .dataframe tbody tr th:only-of-type {\n",
       "        vertical-align: middle;\n",
       "    }\n",
       "\n",
       "    .dataframe tbody tr th {\n",
       "        vertical-align: top;\n",
       "    }\n",
       "\n",
       "    .dataframe thead th {\n",
       "        text-align: right;\n",
       "    }\n",
       "</style>\n",
       "<table border=\"1\" class=\"dataframe\">\n",
       "  <thead>\n",
       "    <tr style=\"text-align: right;\">\n",
       "      <th></th>\n",
       "      <th>Date</th>\n",
       "      <th>Actual Tonnage</th>\n",
       "    </tr>\n",
       "  </thead>\n",
       "  <tbody>\n",
       "    <tr>\n",
       "      <th>0</th>\n",
       "      <td>2024-01-01</td>\n",
       "      <td>0</td>\n",
       "    </tr>\n",
       "    <tr>\n",
       "      <th>1</th>\n",
       "      <td>2024-01-02</td>\n",
       "      <td>6,267</td>\n",
       "    </tr>\n",
       "    <tr>\n",
       "      <th>2</th>\n",
       "      <td>2024-01-03</td>\n",
       "      <td>21,831</td>\n",
       "    </tr>\n",
       "    <tr>\n",
       "      <th>3</th>\n",
       "      <td>2024-01-04</td>\n",
       "      <td>17,462</td>\n",
       "    </tr>\n",
       "    <tr>\n",
       "      <th>4</th>\n",
       "      <td>2024-01-05</td>\n",
       "      <td>18,090</td>\n",
       "    </tr>\n",
       "    <tr>\n",
       "      <th>...</th>\n",
       "      <td>...</td>\n",
       "      <td>...</td>\n",
       "    </tr>\n",
       "    <tr>\n",
       "      <th>324</th>\n",
       "      <td>2024-11-20</td>\n",
       "      <td>12,176</td>\n",
       "    </tr>\n",
       "    <tr>\n",
       "      <th>325</th>\n",
       "      <td>2024-11-21</td>\n",
       "      <td>12172</td>\n",
       "    </tr>\n",
       "    <tr>\n",
       "      <th>326</th>\n",
       "      <td>2024-11-22</td>\n",
       "      <td>20119</td>\n",
       "    </tr>\n",
       "    <tr>\n",
       "      <th>327</th>\n",
       "      <td>2024-11-23</td>\n",
       "      <td>0</td>\n",
       "    </tr>\n",
       "    <tr>\n",
       "      <th>328</th>\n",
       "      <td>2024-11-24</td>\n",
       "      <td>13639</td>\n",
       "    </tr>\n",
       "  </tbody>\n",
       "</table>\n",
       "<p>329 rows × 2 columns</p>\n",
       "</div>"
      ],
      "text/plain": [
       "           Date Actual Tonnage\n",
       "0    2024-01-01              0\n",
       "1    2024-01-02          6,267\n",
       "2    2024-01-03         21,831\n",
       "3    2024-01-04         17,462\n",
       "4    2024-01-05         18,090\n",
       "..          ...            ...\n",
       "324  2024-11-20         12,176\n",
       "325  2024-11-21          12172\n",
       "326  2024-11-22          20119\n",
       "327  2024-11-23              0\n",
       "328  2024-11-24          13639\n",
       "\n",
       "[329 rows x 2 columns]"
      ]
     },
     "execution_count": 82,
     "metadata": {},
     "output_type": "execute_result"
    }
   ],
   "source": [
    "dfprod"
   ]
  },
  {
   "cell_type": "code",
   "execution_count": 83,
   "metadata": {},
   "outputs": [
    {
     "name": "stdout",
     "output_type": "stream",
     "text": [
      "<class 'pandas.core.frame.DataFrame'>\n",
      "RangeIndex: 329 entries, 0 to 328\n",
      "Data columns (total 2 columns):\n",
      " #   Column          Non-Null Count  Dtype \n",
      "---  ------          --------------  ----- \n",
      " 0   Date            329 non-null    object\n",
      " 1   Actual Tonnage  329 non-null    object\n",
      "dtypes: object(2)\n",
      "memory usage: 5.3+ KB\n"
     ]
    }
   ],
   "source": [
    "dfprod.info()"
   ]
  },
  {
   "cell_type": "code",
   "execution_count": 84,
   "metadata": {},
   "outputs": [],
   "source": [
    "# Convert features to useful data types\n",
    "dfprod[\"Date\"] = pd.to_datetime(dfprod[\"Date\"])\n",
    "dfprod[\"Actual Tonnage\"] = dfprod[\"Actual Tonnage\"].str.replace(',', '').astype(int)"
   ]
  },
  {
   "cell_type": "markdown",
   "metadata": {},
   "source": [
    "Next, change downtime data types as required"
   ]
  },
  {
   "cell_type": "code",
   "execution_count": 85,
   "metadata": {},
   "outputs": [
    {
     "data": {
      "text/html": [
       "<div>\n",
       "<style scoped>\n",
       "    .dataframe tbody tr th:only-of-type {\n",
       "        vertical-align: middle;\n",
       "    }\n",
       "\n",
       "    .dataframe tbody tr th {\n",
       "        vertical-align: top;\n",
       "    }\n",
       "\n",
       "    .dataframe thead th {\n",
       "        text-align: right;\n",
       "    }\n",
       "</style>\n",
       "<table border=\"1\" class=\"dataframe\">\n",
       "  <thead>\n",
       "    <tr style=\"text-align: right;\">\n",
       "      <th></th>\n",
       "      <th>Date</th>\n",
       "      <th>Downtime Description</th>\n",
       "      <th>Start Time [24:00]</th>\n",
       "      <th>End Time [24:00]</th>\n",
       "      <th>Downtime Category</th>\n",
       "      <th>Duration (minutes)</th>\n",
       "      <th>D_Change produced material</th>\n",
       "      <th>D_Electrical/Mechanical</th>\n",
       "      <th>D_Lack of feed</th>\n",
       "      <th>D_Meetings/Breaks/Training</th>\n",
       "      <th>D_Planned Maintenance</th>\n",
       "      <th>D_Production Stoppage</th>\n",
       "      <th>D_Rate loss</th>\n",
       "      <th>D_Start up/Shut Down</th>\n",
       "      <th>D_Weather/Environmental</th>\n",
       "    </tr>\n",
       "  </thead>\n",
       "  <tbody>\n",
       "    <tr>\n",
       "      <th>0</th>\n",
       "      <td>2024-01-04</td>\n",
       "      <td>SAFETY TALK</td>\n",
       "      <td>2024-01-04 00:00:00</td>\n",
       "      <td>2024-01-04 00:15:00</td>\n",
       "      <td>Meetings/Breaks/Training</td>\n",
       "      <td>15</td>\n",
       "      <td>False</td>\n",
       "      <td>False</td>\n",
       "      <td>False</td>\n",
       "      <td>True</td>\n",
       "      <td>False</td>\n",
       "      <td>False</td>\n",
       "      <td>False</td>\n",
       "      <td>False</td>\n",
       "      <td>False</td>\n",
       "    </tr>\n",
       "    <tr>\n",
       "      <th>1</th>\n",
       "      <td>2024-01-04</td>\n",
       "      <td>CC AND TRAVEL</td>\n",
       "      <td>2024-01-04 00:15:00</td>\n",
       "      <td>2024-01-04 00:45:00</td>\n",
       "      <td>Start up/Shut Down</td>\n",
       "      <td>30</td>\n",
       "      <td>False</td>\n",
       "      <td>False</td>\n",
       "      <td>False</td>\n",
       "      <td>False</td>\n",
       "      <td>False</td>\n",
       "      <td>False</td>\n",
       "      <td>False</td>\n",
       "      <td>True</td>\n",
       "      <td>False</td>\n",
       "    </tr>\n",
       "    <tr>\n",
       "      <th>2</th>\n",
       "      <td>2024-01-04</td>\n",
       "      <td>LUNCH</td>\n",
       "      <td>2024-01-04 04:30:00</td>\n",
       "      <td>2024-01-04 05:15:00</td>\n",
       "      <td>Meetings/Breaks/Training</td>\n",
       "      <td>45</td>\n",
       "      <td>False</td>\n",
       "      <td>False</td>\n",
       "      <td>False</td>\n",
       "      <td>True</td>\n",
       "      <td>False</td>\n",
       "      <td>False</td>\n",
       "      <td>False</td>\n",
       "      <td>False</td>\n",
       "      <td>False</td>\n",
       "    </tr>\n",
       "    <tr>\n",
       "      <th>3</th>\n",
       "      <td>2024-01-04</td>\n",
       "      <td>SAFETY TALK</td>\n",
       "      <td>2024-01-04 08:00:00</td>\n",
       "      <td>2024-01-04 08:15:00</td>\n",
       "      <td>Meetings/Breaks/Training</td>\n",
       "      <td>15</td>\n",
       "      <td>False</td>\n",
       "      <td>False</td>\n",
       "      <td>False</td>\n",
       "      <td>True</td>\n",
       "      <td>False</td>\n",
       "      <td>False</td>\n",
       "      <td>False</td>\n",
       "      <td>False</td>\n",
       "      <td>False</td>\n",
       "    </tr>\n",
       "    <tr>\n",
       "      <th>4</th>\n",
       "      <td>2024-01-04</td>\n",
       "      <td>CC AND TRAVEL</td>\n",
       "      <td>2024-01-04 08:15:00</td>\n",
       "      <td>2024-01-04 08:30:00</td>\n",
       "      <td>Start up/Shut Down</td>\n",
       "      <td>15</td>\n",
       "      <td>False</td>\n",
       "      <td>False</td>\n",
       "      <td>False</td>\n",
       "      <td>False</td>\n",
       "      <td>False</td>\n",
       "      <td>False</td>\n",
       "      <td>False</td>\n",
       "      <td>True</td>\n",
       "      <td>False</td>\n",
       "    </tr>\n",
       "    <tr>\n",
       "      <th>...</th>\n",
       "      <td>...</td>\n",
       "      <td>...</td>\n",
       "      <td>...</td>\n",
       "      <td>...</td>\n",
       "      <td>...</td>\n",
       "      <td>...</td>\n",
       "      <td>...</td>\n",
       "      <td>...</td>\n",
       "      <td>...</td>\n",
       "      <td>...</td>\n",
       "      <td>...</td>\n",
       "      <td>...</td>\n",
       "      <td>...</td>\n",
       "      <td>...</td>\n",
       "      <td>...</td>\n",
       "    </tr>\n",
       "    <tr>\n",
       "      <th>5817</th>\n",
       "      <td>2024-11-24</td>\n",
       "      <td>CHANGE SCREEN GATES</td>\n",
       "      <td>2024-11-24 00:00:00</td>\n",
       "      <td>2024-11-24 01:12:00</td>\n",
       "      <td>Electrical/Mechanical</td>\n",
       "      <td>72</td>\n",
       "      <td>False</td>\n",
       "      <td>True</td>\n",
       "      <td>False</td>\n",
       "      <td>False</td>\n",
       "      <td>False</td>\n",
       "      <td>False</td>\n",
       "      <td>False</td>\n",
       "      <td>False</td>\n",
       "      <td>False</td>\n",
       "    </tr>\n",
       "    <tr>\n",
       "      <th>5818</th>\n",
       "      <td>2024-11-24</td>\n",
       "      <td>REMOVING ROCK FROM TAIL PULLEY</td>\n",
       "      <td>2024-11-24 01:49:00</td>\n",
       "      <td>2024-11-24 02:04:00</td>\n",
       "      <td>Electrical/Mechanical</td>\n",
       "      <td>15</td>\n",
       "      <td>False</td>\n",
       "      <td>True</td>\n",
       "      <td>False</td>\n",
       "      <td>False</td>\n",
       "      <td>False</td>\n",
       "      <td>False</td>\n",
       "      <td>False</td>\n",
       "      <td>False</td>\n",
       "      <td>False</td>\n",
       "    </tr>\n",
       "    <tr>\n",
       "      <th>5819</th>\n",
       "      <td>2024-11-24</td>\n",
       "      <td>LOW FEED</td>\n",
       "      <td>2024-11-24 10:21:00</td>\n",
       "      <td>2024-11-24 10:54:00</td>\n",
       "      <td>Lack of feed</td>\n",
       "      <td>33</td>\n",
       "      <td>False</td>\n",
       "      <td>False</td>\n",
       "      <td>True</td>\n",
       "      <td>False</td>\n",
       "      <td>False</td>\n",
       "      <td>False</td>\n",
       "      <td>False</td>\n",
       "      <td>False</td>\n",
       "      <td>False</td>\n",
       "    </tr>\n",
       "    <tr>\n",
       "      <th>5820</th>\n",
       "      <td>2024-11-24</td>\n",
       "      <td>VF4 PLUGGED</td>\n",
       "      <td>2024-11-24 11:12:00</td>\n",
       "      <td>2024-11-24 11:23:00</td>\n",
       "      <td>Electrical/Mechanical</td>\n",
       "      <td>11</td>\n",
       "      <td>False</td>\n",
       "      <td>True</td>\n",
       "      <td>False</td>\n",
       "      <td>False</td>\n",
       "      <td>False</td>\n",
       "      <td>False</td>\n",
       "      <td>False</td>\n",
       "      <td>False</td>\n",
       "      <td>False</td>\n",
       "    </tr>\n",
       "    <tr>\n",
       "      <th>5821</th>\n",
       "      <td>2024-11-24</td>\n",
       "      <td>NO FEED - SD</td>\n",
       "      <td>2024-11-24 13:17:00</td>\n",
       "      <td>2024-11-24 15:59:00</td>\n",
       "      <td>Lack of feed</td>\n",
       "      <td>162</td>\n",
       "      <td>False</td>\n",
       "      <td>False</td>\n",
       "      <td>True</td>\n",
       "      <td>False</td>\n",
       "      <td>False</td>\n",
       "      <td>False</td>\n",
       "      <td>False</td>\n",
       "      <td>False</td>\n",
       "      <td>False</td>\n",
       "    </tr>\n",
       "  </tbody>\n",
       "</table>\n",
       "<p>5822 rows × 15 columns</p>\n",
       "</div>"
      ],
      "text/plain": [
       "            Date            Downtime Description   Start Time [24:00]  \\\n",
       "0     2024-01-04                     SAFETY TALK  2024-01-04 00:00:00   \n",
       "1     2024-01-04                   CC AND TRAVEL  2024-01-04 00:15:00   \n",
       "2     2024-01-04                           LUNCH  2024-01-04 04:30:00   \n",
       "3     2024-01-04                     SAFETY TALK  2024-01-04 08:00:00   \n",
       "4     2024-01-04                   CC AND TRAVEL  2024-01-04 08:15:00   \n",
       "...          ...                             ...                  ...   \n",
       "5817  2024-11-24             CHANGE SCREEN GATES  2024-11-24 00:00:00   \n",
       "5818  2024-11-24  REMOVING ROCK FROM TAIL PULLEY  2024-11-24 01:49:00   \n",
       "5819  2024-11-24                        LOW FEED  2024-11-24 10:21:00   \n",
       "5820  2024-11-24                     VF4 PLUGGED  2024-11-24 11:12:00   \n",
       "5821  2024-11-24                    NO FEED - SD  2024-11-24 13:17:00   \n",
       "\n",
       "         End Time [24:00]         Downtime Category  Duration (minutes)  \\\n",
       "0     2024-01-04 00:15:00  Meetings/Breaks/Training                  15   \n",
       "1     2024-01-04 00:45:00        Start up/Shut Down                  30   \n",
       "2     2024-01-04 05:15:00  Meetings/Breaks/Training                  45   \n",
       "3     2024-01-04 08:15:00  Meetings/Breaks/Training                  15   \n",
       "4     2024-01-04 08:30:00        Start up/Shut Down                  15   \n",
       "...                   ...                       ...                 ...   \n",
       "5817  2024-11-24 01:12:00     Electrical/Mechanical                  72   \n",
       "5818  2024-11-24 02:04:00     Electrical/Mechanical                  15   \n",
       "5819  2024-11-24 10:54:00              Lack of feed                  33   \n",
       "5820  2024-11-24 11:23:00     Electrical/Mechanical                  11   \n",
       "5821  2024-11-24 15:59:00              Lack of feed                 162   \n",
       "\n",
       "      D_Change produced material  D_Electrical/Mechanical  D_Lack of feed  \\\n",
       "0                          False                    False           False   \n",
       "1                          False                    False           False   \n",
       "2                          False                    False           False   \n",
       "3                          False                    False           False   \n",
       "4                          False                    False           False   \n",
       "...                          ...                      ...             ...   \n",
       "5817                       False                     True           False   \n",
       "5818                       False                     True           False   \n",
       "5819                       False                    False            True   \n",
       "5820                       False                     True           False   \n",
       "5821                       False                    False            True   \n",
       "\n",
       "      D_Meetings/Breaks/Training  D_Planned Maintenance  \\\n",
       "0                           True                  False   \n",
       "1                          False                  False   \n",
       "2                           True                  False   \n",
       "3                           True                  False   \n",
       "4                          False                  False   \n",
       "...                          ...                    ...   \n",
       "5817                       False                  False   \n",
       "5818                       False                  False   \n",
       "5819                       False                  False   \n",
       "5820                       False                  False   \n",
       "5821                       False                  False   \n",
       "\n",
       "      D_Production Stoppage  D_Rate loss  D_Start up/Shut Down  \\\n",
       "0                     False        False                 False   \n",
       "1                     False        False                  True   \n",
       "2                     False        False                 False   \n",
       "3                     False        False                 False   \n",
       "4                     False        False                  True   \n",
       "...                     ...          ...                   ...   \n",
       "5817                  False        False                 False   \n",
       "5818                  False        False                 False   \n",
       "5819                  False        False                 False   \n",
       "5820                  False        False                 False   \n",
       "5821                  False        False                 False   \n",
       "\n",
       "      D_Weather/Environmental  \n",
       "0                       False  \n",
       "1                       False  \n",
       "2                       False  \n",
       "3                       False  \n",
       "4                       False  \n",
       "...                       ...  \n",
       "5817                    False  \n",
       "5818                    False  \n",
       "5819                    False  \n",
       "5820                    False  \n",
       "5821                    False  \n",
       "\n",
       "[5822 rows x 15 columns]"
      ]
     },
     "execution_count": 85,
     "metadata": {},
     "output_type": "execute_result"
    }
   ],
   "source": [
    "dfdown"
   ]
  },
  {
   "cell_type": "code",
   "execution_count": 86,
   "metadata": {},
   "outputs": [
    {
     "name": "stdout",
     "output_type": "stream",
     "text": [
      "<class 'pandas.core.frame.DataFrame'>\n",
      "RangeIndex: 5822 entries, 0 to 5821\n",
      "Data columns (total 15 columns):\n",
      " #   Column                      Non-Null Count  Dtype \n",
      "---  ------                      --------------  ----- \n",
      " 0   Date                        5822 non-null   object\n",
      " 1   Downtime Description        5822 non-null   object\n",
      " 2   Start Time [24:00]          5811 non-null   object\n",
      " 3   End Time [24:00]            5810 non-null   object\n",
      " 4   Downtime Category           5817 non-null   object\n",
      " 5   Duration (minutes)          5822 non-null   int64 \n",
      " 6   D_Change produced material  5822 non-null   bool  \n",
      " 7   D_Electrical/Mechanical     5822 non-null   bool  \n",
      " 8   D_Lack of feed              5822 non-null   bool  \n",
      " 9   D_Meetings/Breaks/Training  5822 non-null   bool  \n",
      " 10  D_Planned Maintenance       5822 non-null   bool  \n",
      " 11  D_Production Stoppage       5822 non-null   bool  \n",
      " 12  D_Rate loss                 5822 non-null   bool  \n",
      " 13  D_Start up/Shut Down        5822 non-null   bool  \n",
      " 14  D_Weather/Environmental     5822 non-null   bool  \n",
      "dtypes: bool(9), int64(1), object(5)\n",
      "memory usage: 324.2+ KB\n"
     ]
    }
   ],
   "source": [
    "dfdown.info()"
   ]
  },
  {
   "cell_type": "code",
   "execution_count": 87,
   "metadata": {},
   "outputs": [],
   "source": [
    "# Convert features to useful data types\n",
    "dfdown[\"Date\"] = pd.to_datetime(dfdown[\"Date\"])\n",
    "dfdown[\"Start Time [24:00]\"] = pd.to_datetime(dfdown[\"Start Time [24:00]\"])\n",
    "dfdown[\"End Time [24:00]\"] = pd.to_datetime(dfdown[\"End Time [24:00]\"])\n",
    "dfdown[\"Duration (minutes)\"] = dfdown[\"Duration (minutes)\"].astype(int)"
   ]
  },
  {
   "cell_type": "markdown",
   "metadata": {},
   "source": [
    "### Observations\n",
    "\n",
    "Lets first take a look at the production dataframe. Descriptive information will give a useful overview."
   ]
  },
  {
   "cell_type": "code",
   "execution_count": 88,
   "metadata": {},
   "outputs": [
    {
     "data": {
      "text/html": [
       "<div>\n",
       "<style scoped>\n",
       "    .dataframe tbody tr th:only-of-type {\n",
       "        vertical-align: middle;\n",
       "    }\n",
       "\n",
       "    .dataframe tbody tr th {\n",
       "        vertical-align: top;\n",
       "    }\n",
       "\n",
       "    .dataframe thead th {\n",
       "        text-align: right;\n",
       "    }\n",
       "</style>\n",
       "<table border=\"1\" class=\"dataframe\">\n",
       "  <thead>\n",
       "    <tr style=\"text-align: right;\">\n",
       "      <th></th>\n",
       "      <th>Date</th>\n",
       "      <th>Actual Tonnage</th>\n",
       "    </tr>\n",
       "  </thead>\n",
       "  <tbody>\n",
       "    <tr>\n",
       "      <th>count</th>\n",
       "      <td>329</td>\n",
       "      <td>329.000000</td>\n",
       "    </tr>\n",
       "    <tr>\n",
       "      <th>mean</th>\n",
       "      <td>2024-06-13 00:00:00</td>\n",
       "      <td>11035.188450</td>\n",
       "    </tr>\n",
       "    <tr>\n",
       "      <th>min</th>\n",
       "      <td>2024-01-01 00:00:00</td>\n",
       "      <td>0.000000</td>\n",
       "    </tr>\n",
       "    <tr>\n",
       "      <th>25%</th>\n",
       "      <td>2024-03-23 00:00:00</td>\n",
       "      <td>4843.000000</td>\n",
       "    </tr>\n",
       "    <tr>\n",
       "      <th>50%</th>\n",
       "      <td>2024-06-13 00:00:00</td>\n",
       "      <td>12322.000000</td>\n",
       "    </tr>\n",
       "    <tr>\n",
       "      <th>75%</th>\n",
       "      <td>2024-09-03 00:00:00</td>\n",
       "      <td>17481.000000</td>\n",
       "    </tr>\n",
       "    <tr>\n",
       "      <th>max</th>\n",
       "      <td>2024-11-24 00:00:00</td>\n",
       "      <td>23927.000000</td>\n",
       "    </tr>\n",
       "    <tr>\n",
       "      <th>std</th>\n",
       "      <td>NaN</td>\n",
       "      <td>7449.202362</td>\n",
       "    </tr>\n",
       "  </tbody>\n",
       "</table>\n",
       "</div>"
      ],
      "text/plain": [
       "                      Date  Actual Tonnage\n",
       "count                  329      329.000000\n",
       "mean   2024-06-13 00:00:00    11035.188450\n",
       "min    2024-01-01 00:00:00        0.000000\n",
       "25%    2024-03-23 00:00:00     4843.000000\n",
       "50%    2024-06-13 00:00:00    12322.000000\n",
       "75%    2024-09-03 00:00:00    17481.000000\n",
       "max    2024-11-24 00:00:00    23927.000000\n",
       "std                    NaN     7449.202362"
      ]
     },
     "execution_count": 88,
     "metadata": {},
     "output_type": "execute_result"
    }
   ],
   "source": [
    "dfprod.describe()"
   ]
  },
  {
   "cell_type": "code",
   "execution_count": 89,
   "metadata": {},
   "outputs": [
    {
     "name": "stdout",
     "output_type": "stream",
     "text": [
      "68\n"
     ]
    }
   ],
   "source": [
    "print((dfprod[\"Actual Tonnage\"] == 0).sum())"
   ]
  },
  {
   "cell_type": "markdown",
   "metadata": {},
   "source": [
    "From the information above, we can see that there are no negative values (although there are a fair number of zeros)\n",
    "\n",
    "Lets figure out the shape of our production data distribution to see if there are any obvious outliers."
   ]
  },
  {
   "cell_type": "code",
   "execution_count": 90,
   "metadata": {},
   "outputs": [
    {
     "data": {
      "image/png": "[encoded data removed]",
      "text/plain": [
       "<Figure size 1000x600 with 1 Axes>"
      ]
     },
     "metadata": {},
     "output_type": "display_data"
    },
    {
     "data": {
      "image/png": "[encoded data removed]",
      "text/plain": [
       "<Figure size 800x400 with 1 Axes>"
      ]
     },
     "metadata": {},
     "output_type": "display_data"
    }
   ],
   "source": [
    "# Plot the distribution using a histogram\n",
    "plt.figure(figsize=(10, 6))\n",
    "plt.hist(dfprod[\"Actual Tonnage\"], bins=20, color='blue', alpha=0.7, edgecolor='black')\n",
    "plt.title(\"Distribution of Actual Tonnage\", fontsize=16)\n",
    "plt.xlabel(\"Actual Tonnage\", fontsize=12)\n",
    "plt.ylabel(\"Frequency\", fontsize=12)\n",
    "plt.grid(axis='y', linestyle='--', alpha=0.7)\n",
    "plt.show()\n",
    "\n",
    "# Boxplot\n",
    "plt.figure(figsize=(8, 4))\n",
    "plt.boxplot(dfprod[\"Actual Tonnage\"], vert=False, patch_artist=True, boxprops=dict(facecolor=\"blue\"))\n",
    "plt.title(\"Boxplot of Actual Tonnage\", fontsize=16)\n",
    "plt.xlabel(\"Actual Tonnage\", fontsize=12)\n",
    "plt.show()"
   ]
  },
  {
   "cell_type": "markdown",
   "metadata": {},
   "source": [
    "From the histogram, we see a large number of zeros and semi-uniform distribution (with lots of variance).\n",
    "\n",
    "Lets see how those no production days are distributed. Was there one big stoppage or are they normally disributed in the timeseries?"
   ]
  },
  {
   "cell_type": "code",
   "execution_count": 91,
   "metadata": {},
   "outputs": [
    {
     "data": {
      "image/png": "[encoded data removed]",
      "text/plain": [
       "<Figure size 1000x600 with 1 Axes>"
      ]
     },
     "metadata": {},
     "output_type": "display_data"
    }
   ],
   "source": [
    "# Create a boolean mask for zero tonnage\n",
    "dfprod[\"Zero Tonnage\"] = dfprod[\"Actual Tonnage\"] == 0\n",
    "\n",
    "# Create a column for consecutive zero production days (assign a group number)\n",
    "dfprod['Group'] = (dfprod['Zero Tonnage'] != dfprod['Zero Tonnage'].shift()).cumsum()\n",
    "\n",
    "# Filter for the rows where \"Zero Tonnage\" is True (i.e., production is zero)\n",
    "zero_tonnage_groups = dfprod[dfprod[\"Zero Tonnage\"]]\n",
    "\n",
    "# Count the length of each consecutive zero period\n",
    "zero_counts = zero_tonnage_groups.groupby('Group').size()\n",
    "\n",
    "# Filter out groups with only one day of zero production\n",
    "zero_counts = zero_counts[zero_counts > 1]\n",
    "\n",
    "# Reindex the groups to start from 1\n",
    "zero_counts.index = range(1, len(zero_counts) + 1)\n",
    "\n",
    "# Plot the distribution of consecutive zero days\n",
    "plt.figure(figsize=(10, 6))\n",
    "zero_counts.plot(kind='bar', color='blue')\n",
    "plt.title(\"Number of Consecutive Zero Production Days (excluding 1-day periods)\", fontsize=16)\n",
    "plt.xlabel(\"Zero Production Periods (>= 2 Day Window)\", fontsize=12)\n",
    "plt.ylabel(\"Number of Days\", fontsize=12)\n",
    "plt.grid(axis='y', linestyle='--', alpha=0.7)\n",
    "plt.show()"
   ]
  },
  {
   "cell_type": "markdown",
   "metadata": {},
   "source": [
    "Looking at the groups of stoppage that where greater or equal to 2 days, we can see there was one stoppage that lasted nearly 50 days. Lets see when this occured."
   ]
  },
  {
   "cell_type": "code",
   "execution_count": 102,
   "metadata": {},
   "outputs": [
    {
     "name": "stdout",
     "output_type": "stream",
     "text": [
      "2024-02-01 00:00:00 - 2024-03-19 00:00:00\n",
      "47 days 00:00:00\n"
     ]
    }
   ],
   "source": [
    "# Find the group with the longest stoppage period\n",
    "max_stoppage_group = zero_counts.idxmax()\n",
    "\n",
    "# Get the start and end dates for the longest stoppage\n",
    "max_stoppage_dates = dfprod[dfprod['Group'] == max_stoppage_group]\n",
    "start_date = max_stoppage_dates['Date'].min()\n",
    "end_date = max_stoppage_dates['Date'].max()\n",
    "\n",
    "print(f\"{start_date} - {end_date}\")\n",
    "print(end_date - start_date)\n"
   ]
  },
  {
   "cell_type": "markdown",
   "metadata": {},
   "source": [
    "The window of 47 days occured from Feb 2, 2024 to Mar 19, 2024. After further online research, it appears that many quarrys in Canada close down in the winter for repairs due to the adverse affect of weather on productivity."
   ]
  }
 ],
 "metadata": {
  "kernelspec": {
   "display_name": "Python 3",
   "language": "python",
   "name": "python3"
  },
  "language_info": {
   "codemirror_mode": {
    "name": "ipython",
    "version": 3
   },
   "file_extension": ".py",
   "mimetype": "text/x-python",
   "name": "python",
   "nbconvert_exporter": "python",
   "pygments_lexer": "ipython3",
   "version": "3.13.0"
  }
 },
 "nbformat": 4,
 "nbformat_minor": 2
}
